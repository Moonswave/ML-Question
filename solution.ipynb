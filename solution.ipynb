{
 "cells": [
  {
   "cell_type": "markdown",
   "metadata": {},
   "source": [
    "## Full Code"
   ]
  },
  {
   "cell_type": "code",
   "execution_count": null,
   "metadata": {},
   "outputs": [],
   "source": [
    "import json\n",
    "import re\n",
    "import nltk\n",
    "from tqdm import tqdm\n",
    "from rank_bm25 import BM25Okapi\n",
    "from transformers import pipeline, AutoTokenizer, AutoModelForQuestionAnswering\n",
    "import wikipediaapi\n",
    "import time\n",
    "\n",
    "with open('news-article.json', 'r', encoding='utf-8') as f:\n",
    "    data = json.load(f)\n",
    "\n",
    "wiki_wiki = wikipediaapi.Wikipedia('en', headers={'User-Agent': 'YourCustomUserAgent/1.0 (your-email@example.com)'})\n",
    "\n",
    "def preprocess(text):\n",
    "    text = re.sub(r'\\W+', ' ', text.lower())  # Convert to lowercase and remove non-word characters\n",
    "    return text\n",
    "\n",
    "def filter_and_preprocess(data):\n",
    "    relevant_articles = []\n",
    "    for article in tqdm(data, desc=\"Filtering and Preprocessing Articles\"):\n",
    "        article_body = article.get('articleBody', '')  # Get the article body text\n",
    "        if any(keyword in article_body for keyword in ['Israel', 'Hamas']):\n",
    "            article['text'] = preprocess(article_body.lower())  # Update the article with preprocessed text\n",
    "            relevant_articles.append(article)  # Append the updated article\n",
    "    return relevant_articles\n",
    "\n",
    "filtered_articles = filter_and_preprocess(data)\n",
    "print(f\"Filtered down to {len(filtered_articles)} relevant articles.\")\n",
    "\n",
    "tokenized_corpus = [nltk.word_tokenize(article['text']) for article in filtered_articles]\n",
    "\n",
    "bm25 = BM25Okapi(tokenized_corpus)\n",
    "\n",
    "def retrieve_articles(query, num_results=5):\n",
    "    tokenized_query = nltk.word_tokenize(query.lower())\n",
    "    scores = bm25.get_scores(tokenized_query)\n",
    "    top_n_indices = scores.argsort()[-num_results:][::-1]\n",
    "    return [filtered_articles[i] for i in top_n_indices]\n",
    "\n",
    "model_name = \"bert-large-uncased-whole-word-masking-finetuned-squad\"\n",
    "tokenizer = AutoTokenizer.from_pretrained(model_name)\n",
    "model = AutoModelForQuestionAnswering.from_pretrained(model_name)\n",
    "qa_pipeline = pipeline('question-answering', model=model, tokenizer=tokenizer)\n",
    "\n",
    "def answer_question(question, context):\n",
    "    inputs = {\n",
    "        'question': question,\n",
    "        'context': context\n",
    "    }\n",
    "    return qa_pipeline(inputs)\n",
    "\n",
    "def get_answer_from_articles(question, num_results=5):\n",
    "    relevant_articles = retrieve_articles(question, num_results)\n",
    "    answers = []\n",
    "    for article in relevant_articles:\n",
    "        answer = answer_question(question, article['text'])\n",
    "        answers.append({\n",
    "            'article_title': article.get('title', 'No Title'),\n",
    "            'article_source': article.get('source', 'No Source'),\n",
    "            'answer': answer['answer'],\n",
    "            'score': answer['score'],\n",
    "            'start': answer['start'],\n",
    "            'end': answer['end']\n",
    "        })\n",
    "    sorted_answers = sorted(answers, key=lambda x: x['score'], reverse=True)\n",
    "    return sorted_answers[:3]\n",
    "\n",
    "def get_wikipedia_summary(question, max_retries=3, timeout=10, max_summary_length=1500):\n",
    "    summary = \"\"\n",
    "    for attempt in range(max_retries):\n",
    "        try:\n",
    "            page = wiki_wiki.page(question)\n",
    "            if page.exists():\n",
    "                summary += page.summary[:max_summary_length].strip() + \"\\n\\n\"\n",
    "                break  \n",
    "        except Exception as e:\n",
    "            print(f\"Error retrieving Wikipedia page for {question}: {e}\")\n",
    "            if attempt < max_retries - 1:\n",
    "                time.sleep(2)  \n",
    "            else:\n",
    "                print(f\"Failed to retrieve Wikipedia page for {question} after {max_retries} attempts.\")\n",
    "    return summary\n",
    "\n",
    "\n",
    "question = input(\"Please enter your question: \")\n",
    "\n",
    "wiki_summary = get_wikipedia_summary(question)\n",
    "if wiki_summary:\n",
    "    print(\"Wikipedia Summary:\\n\", wiki_summary)\n",
    "\n",
    "answers = get_answer_from_articles(question)\n",
    "if answers:\n",
    "    print(\"Top 3 Answers from Articles:\")\n",
    "    for idx, answer in enumerate(answers):\n",
    "        print(f\"Answer {idx + 1}:\")\n",
    "        print(f\"Answer: {answer['answer']}\")\n",
    "        print(f\"Article Title: {answer['article_title']}\")\n",
    "        print(f\"Article Source: {answer['article_source']}\")\n",
    "        print(\"=\" * 50)\n",
    "else:\n",
    "    print(\"No relevant answers found from articles.\")\n"
   ]
  },
  {
   "cell_type": "markdown",
   "metadata": {
    "vscode": {
     "languageId": "html"
    }
   },
   "source": [
    "## Step 1 : Import Required Libraries"
   ]
  },
  {
   "cell_type": "code",
   "execution_count": null,
   "metadata": {},
   "outputs": [],
   "source": [
    "import json\n",
    "import re\n",
    "import nltk\n",
    "from tqdm import tqdm\n",
    "from rank_bm25 import BM25Okapi\n",
    "from transformers import pipeline, AutoTokenizer, AutoModelForQuestionAnswering\n",
    "import wikipediaapi\n",
    "import time"
   ]
  },
  {
   "cell_type": "markdown",
   "metadata": {},
   "source": [
    "Explaination:\n",
    "\n",
    "- json: Used for reading JSON data.\n",
    "- re: Provides support for regular expressions, used for text preprocessing.\n",
    "- nltk: Natural Language Toolkit for various NLP tasks like tokenization.\n",
    "- tqdm: Progress bar library for visualizing progress during filtering and preprocessing.\n",
    "- \"BM25Okapi\" from \"rank_bm25\": BM25 algorithm for information retrieval.\n",
    "- \"pipeline\", \"AutoTokenizer\", \"AutoModelForQuestionAnswering\" from \"transformers\": Essential components for working with Hugging Face's\n",
    "   Transformers library, including pre-trained models and pipelines.\n",
    "- wikipediaapi: API for interacting with Wikipedia.\n",
    "- time: Used for adding delays between retries when fetching Wikipedia data."
   ]
  },
  {
   "cell_type": "markdown",
   "metadata": {},
   "source": [
    "## Step 2 : Load Ddata from news-article.json File"
   ]
  },
  {
   "cell_type": "code",
   "execution_count": null,
   "metadata": {},
   "outputs": [],
   "source": [
    "with open('news-article.json', 'r', encoding='utf-8') as f:\n",
    "    data = json.load(f)"
   ]
  },
  {
   "cell_type": "markdown",
   "metadata": {},
   "source": [
    "## Step 3 : Initialize Wikipedia API"
   ]
  },
  {
   "cell_type": "code",
   "execution_count": null,
   "metadata": {},
   "outputs": [],
   "source": [
    "wiki_wiki = wikipediaapi.Wikipedia('en', headers={'User-Agent': 'YourCustomUserAgent/1.0 (your-email@example.com)'})\n"
   ]
  },
  {
   "cell_type": "markdown",
   "metadata": {},
   "source": [
    "## Step 4 : Define Preprocessing Function"
   ]
  },
  {
   "cell_type": "code",
   "execution_count": null,
   "metadata": {},
   "outputs": [],
   "source": [
    "def preprocess(text):\n",
    "    text = re.sub(r'\\W+', ' ', text.lower())\n",
    "    return text\n"
   ]
  },
  {
   "cell_type": "markdown",
   "metadata": {},
   "source": [
    "## Step 5 : Filter and Preprocess Articles"
   ]
  },
  {
   "cell_type": "code",
   "execution_count": null,
   "metadata": {},
   "outputs": [],
   "source": [
    "def filter_and_preprocess(data):\n",
    "    relevant_articles = []\n",
    "    for article in tqdm(data, desc=\"Filtering and Preprocessing Articles\"):\n",
    "        article_body = article.get('articleBody', '')  \n",
    "        if any(keyword in article_body for keyword in ['Israel', 'Hamas']):\n",
    "            article['text'] = preprocess(article_body.lower()) \n",
    "            relevant_articles.append(article)  \n",
    "    return relevant_articles\n",
    "\n",
    "filtered_articles = filter_and_preprocess(data)\n",
    "print(f\"Filtered down to {len(filtered_articles)} relevant articles.\")"
   ]
  },
  {
   "cell_type": "markdown",
   "metadata": {},
   "source": [
    "Explaination:\n",
    "\n",
    "- Filters articles based on whether they contain keywords 'Israel' or 'Hamas' in the article body.\n",
    "- Preprocesses the filtered articles by converting text to lowercase and removing non-word characters.\n",
    "- Returns a list of relevant articles."
   ]
  },
  {
   "cell_type": "markdown",
   "metadata": {},
   "source": [
    "## Step 6 : Tokenize Articles, Initialize BM25 Model and Initialize Question Answering Pipeline"
   ]
  },
  {
   "cell_type": "code",
   "execution_count": null,
   "metadata": {},
   "outputs": [],
   "source": [
    "tokenized_corpus = [nltk.word_tokenize(article['text']) for article in filtered_articles]\n",
    "bm25 = BM25Okapi(tokenized_corpus)"
   ]
  },
  {
   "cell_type": "markdown",
   "metadata": {},
   "source": [
    "## Step 7 : Retrieve Articles Based on Query"
   ]
  },
  {
   "cell_type": "code",
   "execution_count": null,
   "metadata": {},
   "outputs": [],
   "source": [
    "def retrieve_articles(query, num_results=5):\n",
    "    tokenized_query = nltk.word_tokenize(query.lower())\n",
    "    scores = bm25.get_scores(tokenized_query)\n",
    "    top_n_indices = scores.argsort()[-num_results:][::-1]\n",
    "    return [filtered_articles[i] for i in top_n_indices]\n"
   ]
  },
  {
   "cell_type": "markdown",
   "metadata": {},
   "source": [
    "Explaination:\n",
    "\n",
    "- Takes a query and retrieves top articles related to the query using BM25 scoring. Returns a list of relevant articles from filtered_articles."
   ]
  },
  {
   "cell_type": "markdown",
   "metadata": {},
   "source": [
    "## Step 8 : Initializing Question Answering Pipeline"
   ]
  },
  {
   "cell_type": "code",
   "execution_count": null,
   "metadata": {},
   "outputs": [],
   "source": [
    "model_name = \"bert-large-uncased-whole-word-masking-finetuned-squad\"\n",
    "tokenizer = AutoTokenizer.from_pretrained(model_name)\n",
    "model = AutoModelForQuestionAnswering.from_pretrained(model_name)\n",
    "qa_pipeline = pipeline('question-answering', model=model, tokenizer=tokenizer)"
   ]
  },
  {
   "cell_type": "markdown",
   "metadata": {},
   "source": [
    "Explaination:\n",
    "\n",
    "- Specifies a fine-tuned BERT model (bert-large-uncased-whole-word-masking-finetuned-squad) for question answering using AutoTokenizer and AutoModelForQuestionAnswering from Transformers."
   ]
  },
  {
   "cell_type": "markdown",
   "metadata": {},
   "source": [
    "## Step 9 : Answer Question Using Articles"
   ]
  },
  {
   "cell_type": "code",
   "execution_count": null,
   "metadata": {},
   "outputs": [],
   "source": [
    "def answer_question(question, context):\n",
    "    inputs = {\n",
    "        'question': question,\n",
    "        'context': context\n",
    "    }\n",
    "    return qa_pipeline(inputs)\n"
   ]
  },
  {
   "cell_type": "markdown",
   "metadata": {},
   "source": [
    "## Step 10 : Getting Answers from Articles"
   ]
  },
  {
   "cell_type": "code",
   "execution_count": null,
   "metadata": {},
   "outputs": [],
   "source": [
    "def get_answer_from_articles(question, num_results=5):\n",
    "    relevant_articles = retrieve_articles(question, num_results)\n",
    "    answers = []\n",
    "    for article in relevant_articles:\n",
    "        answer = answer_question(question, article['text'])\n",
    "        answers.append({\n",
    "            'article_title': article.get('title', 'No Title'),\n",
    "            'article_source': article.get('source', 'No Source'),\n",
    "            'answer': answer['answer'],\n",
    "            'score': answer['score'],\n",
    "            'start': answer['start'],\n",
    "            'end': answer['end']\n",
    "        })\n",
    "    sorted_answers = sorted(answers, key=lambda x: x['score'], reverse=True)\n",
    "    return sorted_answers[:3]\n"
   ]
  },
  {
   "cell_type": "markdown",
   "metadata": {},
   "source": [
    "Explaination:\n",
    "\n",
    "- Retrieves top articles related to a given question using retrieve_articles.\n",
    "- For each article, applies answer_question to extract the best answer and stores relevant information (article_title, article_source, answer, score, start, end) in answers.\n",
    "- Sorts answers based on the answer's score in descending order and returns the top 3 answers.\n"
   ]
  },
  {
   "cell_type": "markdown",
   "metadata": {},
   "source": [
    "## Step 11 : Wikipedia Summery"
   ]
  },
  {
   "cell_type": "code",
   "execution_count": null,
   "metadata": {},
   "outputs": [],
   "source": [
    "def get_wikipedia_summary(question, max_retries=3, timeout=10, max_summary_length=1500):\n",
    "    summary = \"\"\n",
    "    for attempt in range(max_retries):\n",
    "        try:\n",
    "            page = wiki_wiki.page(question)\n",
    "            if page.exists():\n",
    "                summary += page.summary[:max_summary_length].strip() + \"\\n\\n\"\n",
    "                break  \n",
    "        except Exception as e:\n",
    "            print(f\"Error retrieving Wikipedia page for {question}: {e}\")\n",
    "            if attempt < max_retries - 1:\n",
    "                time.sleep(2)  \n",
    "            else:\n",
    "                print(f\"Failed to retrieve Wikipedia page for {question} after {max_retries} attempts.\")\n",
    "    return summary"
   ]
  },
  {
   "cell_type": "markdown",
   "metadata": {},
   "source": [
    "Explaination:\n",
    "\n",
    "- Takes a question, attempts to fetch the corresponding Wikipedia page (page) using wiki_wiki.\n",
    "- If the page exists, retrieves the summary and limits it to max_summary_length characters.\n",
    "- Handles exceptions and retries (max_retries) with a delay (time.sleep(2)) if necessary."
   ]
  },
  {
   "cell_type": "markdown",
   "metadata": {},
   "source": [
    "## Step 12 : User Interaction"
   ]
  },
  {
   "cell_type": "code",
   "execution_count": null,
   "metadata": {},
   "outputs": [],
   "source": [
    "question = input(\"Please enter your question: \")\n",
    "\n",
    "wiki_summary = get_wikipedia_summary(question)\n",
    "if wiki_summary:\n",
    "    print(\"Wikipedia Summary:\\n\", wiki_summary)\n",
    "\n",
    "answers = get_answer_from_articles(question)\n",
    "if answers:\n",
    "    print(\"Top 3 Answers from Articles:\")\n",
    "    for idx, answer in enumerate(answers):\n",
    "        print(f\"Answer {idx + 1}:\")\n",
    "        print(f\"Answer: {answer['answer']}\")\n",
    "        print(f\"Article Title: {answer['article_title']}\")\n",
    "        print(f\"Article Source: {answer['article_source']}\")\n",
    "        print(\"=\" * 50)\n",
    "else:\n",
    "    print(\"No relevant answers found from articles.\")\n"
   ]
  },
  {
   "cell_type": "markdown",
   "metadata": {},
   "source": [
    "Explaination:\n",
    "\n",
    "- Prompts the user to input a question.\n",
    "- Retrieves and prints a Wikipedia summary based on the question.\n",
    "- Retrieves and prints the top 3 answers from the filtered articles based on the question."
   ]
  }
 ],
 "metadata": {
  "kernelspec": {
   "display_name": "Python 3",
   "language": "python",
   "name": "python3"
  },
  "language_info": {
   "codemirror_mode": {
    "name": "ipython",
    "version": 3
   },
   "file_extension": ".py",
   "mimetype": "text/x-python",
   "name": "python",
   "nbconvert_exporter": "python",
   "pygments_lexer": "ipython3",
   "version": "3.12.3"
  }
 },
 "nbformat": 4,
 "nbformat_minor": 2
}
